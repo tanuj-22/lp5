{
 "cells": [
  {
   "cell_type": "code",
   "execution_count": 1,
   "id": "32c53226-8cbb-4eb4-851e-7ba5762526ba",
   "metadata": {},
   "outputs": [],
   "source": [
    "import numpy as np\n",
    "import pandas as pd\n",
    "import matplotlib.pyplot as plt"
   ]
  },
  {
   "cell_type": "code",
   "execution_count": 2,
   "id": "0ef1826f-961d-438e-beb0-2f27312cf9c0",
   "metadata": {},
   "outputs": [],
   "source": [
    "# Load the training data\n",
    "train_data = pd.read_csv('Google_Stock_Price_Train.csv')"
   ]
  },
  {
   "cell_type": "code",
   "execution_count": 3,
   "id": "8a74e81e-fb22-4da5-a09c-a9f06e3db56f",
   "metadata": {},
   "outputs": [],
   "source": [
    "# Load the training data\n",
    "test_data = pd.read_csv('Google_Stock_Price_Test.csv')"
   ]
  },
  {
   "cell_type": "code",
   "execution_count": 4,
   "id": "48bf54fc-fd50-4501-9157-5cc7cd7b35b4",
   "metadata": {},
   "outputs": [
    {
     "data": {
      "text/plain": [
       "(1258, 6)"
      ]
     },
     "execution_count": 4,
     "metadata": {},
     "output_type": "execute_result"
    }
   ],
   "source": [
    "train_data.shape"
   ]
  },
  {
   "cell_type": "code",
   "execution_count": 5,
   "id": "2033894a-17bd-4e0c-bf35-a056cd54cdc8",
   "metadata": {},
   "outputs": [
    {
     "data": {
      "text/plain": [
       "(20, 6)"
      ]
     },
     "execution_count": 5,
     "metadata": {},
     "output_type": "execute_result"
    }
   ],
   "source": [
    "test_data.shape"
   ]
  },
  {
   "cell_type": "code",
   "execution_count": 6,
   "id": "7c8a44b6-f063-40c8-a0f5-9e118e4d5e8a",
   "metadata": {},
   "outputs": [],
   "source": [
    "data = pd.concat((train_data['Open'],test_data['Open']),axis=0)"
   ]
  },
  {
   "cell_type": "code",
   "execution_count": 7,
   "id": "3cfb8a08-778f-422d-ac83-ba6a0a73bafd",
   "metadata": {},
   "outputs": [],
   "source": [
    "# scaling"
   ]
  },
  {
   "cell_type": "code",
   "execution_count": 8,
   "id": "d8929635-36d3-4cd2-8e1a-e8abfb98c17a",
   "metadata": {},
   "outputs": [],
   "source": [
    "prices = np.array(data.values)"
   ]
  },
  {
   "cell_type": "code",
   "execution_count": 9,
   "id": "215dc14d-ea71-48d9-8153-aa4665fc82a6",
   "metadata": {},
   "outputs": [],
   "source": [
    "prices = prices.reshape(-1,1)"
   ]
  },
  {
   "cell_type": "code",
   "execution_count": 10,
   "id": "ebe0678c-4803-46b4-93ab-e43a62c535c7",
   "metadata": {},
   "outputs": [],
   "source": [
    "from sklearn.preprocessing import MinMaxScaler\n",
    "scaler = MinMaxScaler()"
   ]
  },
  {
   "cell_type": "code",
   "execution_count": 11,
   "id": "6544d0c5-0f17-4fc1-bb77-a1aeb144dd9f",
   "metadata": {},
   "outputs": [],
   "source": [
    "price_scaled = scaler.fit_transform(prices)"
   ]
  },
  {
   "cell_type": "code",
   "execution_count": 12,
   "id": "23ad75d3-3d13-4735-828c-ceb145028da6",
   "metadata": {},
   "outputs": [],
   "source": [
    "# Split the data into training and testing sets\n",
    "train_size = int(len(price_scaled) * 0.8)\n",
    "train_data = price_scaled[:train_size]\n",
    "test_data = price_scaled[train_size:]"
   ]
  },
  {
   "cell_type": "code",
   "execution_count": 13,
   "id": "07c734da-0d48-41d3-af98-467e2a3c2b00",
   "metadata": {},
   "outputs": [
    {
     "data": {
      "image/png": "[encoded data removed]",
      "text/plain": [
       "<Figure size 432x288 with 1 Axes>"
      ]
     },
     "metadata": {
      "needs_background": "light"
     },
     "output_type": "display_data"
    }
   ],
   "source": [
    "plt.plot(price_scaled)\n",
    "plt.ylabel(\"Standardized Values\")\n",
    "plt.xlabel(\"Time->\")\n",
    "plt.show()"
   ]
  },
  {
   "cell_type": "code",
   "execution_count": 14,
   "id": "7c6c43b3-e6ac-40af-94f9-4d20272697d9",
   "metadata": {},
   "outputs": [],
   "source": [
    "# create the sequence data"
   ]
  },
  {
   "cell_type": "code",
   "execution_count": 15,
   "id": "92ddffde-1f89-4aeb-9de4-dbe5dcd3dfc7",
   "metadata": {},
   "outputs": [],
   "source": [
    "def create_sequences(data, seq_length):\n",
    "    x = []\n",
    "    y = []\n",
    "    for i in range(len(data) - seq_length):\n",
    "        x.append(data[i:i+seq_length])\n",
    "        y.append(data[i+seq_length])\n",
    "    return np.array(x), np.array(y)"
   ]
  },
  {
   "cell_type": "code",
   "execution_count": 16,
   "id": "13f4bfcb-e3f1-4547-8df8-d01ab5c63b8f",
   "metadata": {},
   "outputs": [],
   "source": [
    "seq_len = 20\n",
    "x_train, y_train = create_sequences(train_data,seq_len)\n",
    "x_test, y_test = create_sequences(test_data,seq_len)"
   ]
  },
  {
   "cell_type": "code",
   "execution_count": 17,
   "id": "122057d7-aa52-49c5-8071-a084889b000a",
   "metadata": {},
   "outputs": [],
   "source": [
    "# create model"
   ]
  },
  {
   "cell_type": "code",
   "execution_count": 18,
   "id": "245b891c-b89a-4ccb-8a80-d292696a1738",
   "metadata": {},
   "outputs": [],
   "source": [
    "from tensorflow.keras.models import Sequential\n",
    "from tensorflow.keras.layers import Dense,SimpleRNN, Dropout"
   ]
  },
  {
   "cell_type": "code",
   "execution_count": null,
   "id": "bb051cb0-a128-4c02-ab8d-b27b0938903b",
   "metadata": {},
   "outputs": [],
   "source": []
  },
  {
   "cell_type": "code",
   "execution_count": 19,
   "id": "0fb72a07-35da-4679-b5cc-36a5445c2e4f",
   "metadata": {},
   "outputs": [
    {
     "name": "stdout",
     "output_type": "stream",
     "text": [
      "Metal device set to: Apple M1\n"
     ]
    },
    {
     "name": "stderr",
     "output_type": "stream",
     "text": [
      "2023-05-24 10:57:47.947688: I tensorflow/core/common_runtime/pluggable_device/pluggable_device_factory.cc:306] Could not identify NUMA node of platform GPU ID 0, defaulting to 0. Your kernel may not have been built with NUMA support.\n",
      "2023-05-24 10:57:47.952495: I tensorflow/core/common_runtime/pluggable_device/pluggable_device_factory.cc:272] Created TensorFlow device (/job:localhost/replica:0/task:0/device:GPU:0 with 0 MB memory) -> physical PluggableDevice (device: 0, name: METAL, pci bus id: <undefined>)\n"
     ]
    },
    {
     "name": "stdout",
     "output_type": "stream",
     "text": [
      "Model: \"sequential\"\n",
      "_________________________________________________________________\n",
      " Layer (type)                Output Shape              Param #   \n",
      "=================================================================\n",
      " simple_rnn (SimpleRNN)      (None, 50)                2600      \n",
      "                                                                 \n",
      " dropout (Dropout)           (None, 50)                0         \n",
      "                                                                 \n",
      " dense (Dense)               (None, 1)                 51        \n",
      "                                                                 \n",
      "=================================================================\n",
      "Total params: 2,651\n",
      "Trainable params: 2,651\n",
      "Non-trainable params: 0\n",
      "_________________________________________________________________\n"
     ]
    }
   ],
   "source": [
    "model = Sequential()\n",
    "model.add(SimpleRNN(units=50, activation='tanh', input_shape=(seq_len, 1)))\n",
    "# model.add(Dropout(0.2))\n",
    "# model.add(SimpleRNN(units=50,activation = \"tanh\", return_sequences = True))\n",
    "# model.add(Dropout(0.2))\n",
    "\n",
    "# model.add(SimpleRNN(units=50,activation = \"tanh\", return_sequences = True))\n",
    "# model.add(Dropout(0.2))\n",
    "\n",
    "# model.add(SimpleRNN(units=50))\n",
    "# model.add(Dropout(0.2))\n",
    "model.add(Dense(units=1))\n",
    "model.compile(optimizer='adam', loss='mean_squared_error')\n",
    "model.summary()"
   ]
  },
  {
   "cell_type": "code",
   "execution_count": 29,
   "id": "8295f90e-769f-4147-886a-729c8b9d34a2",
   "metadata": {},
   "outputs": [
    {
     "name": "stdout",
     "output_type": "stream",
     "text": [
      "Epoch 1/5\n",
      "17/17 [==============================] - 4s 222ms/step - loss: 0.0028 - val_loss: 0.0198\n",
      "Epoch 2/5\n",
      "17/17 [==============================] - 4s 212ms/step - loss: 0.0023 - val_loss: 0.0168\n",
      "Epoch 3/5\n",
      "17/17 [==============================] - 4s 212ms/step - loss: 0.0020 - val_loss: 0.0141\n",
      "Epoch 4/5\n",
      "17/17 [==============================] - 4s 213ms/step - loss: 0.0019 - val_loss: 0.0165\n",
      "Epoch 5/5\n",
      "17/17 [==============================] - 4s 216ms/step - loss: 0.0020 - val_loss: 0.0167\n"
     ]
    },
    {
     "data": {
      "text/plain": [
       "<keras.callbacks.History at 0x173b39dc0>"
      ]
     },
     "execution_count": 29,
     "metadata": {},
     "output_type": "execute_result"
    }
   ],
   "source": [
    "# Train the model\n",
    "model.fit(x_train, y_train, epochs=5, batch_size=50,validation_split=0.2)"
   ]
  },
  {
   "cell_type": "code",
   "execution_count": 30,
   "id": "1c11eda1-b761-4ebe-9d9c-3ddfd08121f2",
   "metadata": {},
   "outputs": [
    {
     "name": "stdout",
     "output_type": "stream",
     "text": [
      "8/8 [==============================] - 0s 36ms/step - loss: 0.0429\n",
      "Test Loss: 0.042888861149549484\n"
     ]
    }
   ],
   "source": [
    "# Evaluate the model\n",
    "loss = model.evaluate(x_test, y_test)\n",
    "print('Test Loss:', loss)"
   ]
  },
  {
   "cell_type": "code",
   "execution_count": 31,
   "id": "86f2c4b8-d474-4fc5-bf71-c49b38f01cb1",
   "metadata": {},
   "outputs": [
    {
     "name": "stdout",
     "output_type": "stream",
     "text": [
      "8/8 [==============================] - 0s 33ms/step\n"
     ]
    }
   ],
   "source": [
    "# Make predictions\n",
    "y_pred = model.predict(x_test)"
   ]
  },
  {
   "cell_type": "code",
   "execution_count": 32,
   "id": "fc823415-2294-44b4-89ce-c8e93077d8d1",
   "metadata": {},
   "outputs": [],
   "source": [
    "y_pred = scaler.inverse_transform(y_pred)"
   ]
  },
  {
   "cell_type": "code",
   "execution_count": 33,
   "id": "22e4b0cf-b08e-4b92-afee-5d6404aa46fa",
   "metadata": {},
   "outputs": [
    {
     "data": {
      "text/plain": [
       "(236, 1)"
      ]
     },
     "execution_count": 33,
     "metadata": {},
     "output_type": "execute_result"
    }
   ],
   "source": [
    "y_pred.shape"
   ]
  },
  {
   "cell_type": "code",
   "execution_count": 34,
   "id": "2b31a7d4-5c2d-4492-82aa-f21d8a147853",
   "metadata": {},
   "outputs": [
    {
     "data": {
      "text/plain": [
       "(236, 1)"
      ]
     },
     "execution_count": 34,
     "metadata": {},
     "output_type": "execute_result"
    }
   ],
   "source": [
    "prices[(y_pred.shape[0]*-1):].shape"
   ]
  },
  {
   "cell_type": "code",
   "execution_count": 39,
   "id": "8d86e635-ad9b-41ac-bf27-83d539652f91",
   "metadata": {},
   "outputs": [
    {
     "data": {
      "image/png": "[encoded data removed]",
      "text/plain": [
       "<Figure size 864x432 with 1 Axes>"
      ]
     },
     "metadata": {
      "needs_background": "light"
     },
     "output_type": "display_data"
    }
   ],
   "source": [
    "# Plot the results\n",
    "plt.figure(figsize=(12, 6))\n",
    "plt.plot(prices[(y_pred.shape[0]*-1):], color='red', label='Actual Price')\n",
    "plt.plot(y_pred, color='blue', label='Predicted Price')\n",
    "plt.title('Google Stock Price Prediction')\n",
    "plt.xlabel('Time')\n",
    "plt.ylabel('Price')\n",
    "plt.legend()\n",
    "plt.show()\n"
   ]
  },
  {
   "cell_type": "code",
   "execution_count": null,
   "id": "b185b396-ed96-4fa7-a123-0ac5686cce32",
   "metadata": {},
   "outputs": [],
   "source": []
  },
  {
   "cell_type": "code",
   "execution_count": null,
   "id": "af6ca4f5-3284-4570-8bc7-0ced6577a346",
   "metadata": {},
   "outputs": [],
   "source": []
  },
  {
   "cell_type": "code",
   "execution_count": null,
   "id": "665424a8-c57e-4185-980b-de5e4434a79a",
   "metadata": {},
   "outputs": [],
   "source": []
  },
  {
   "cell_type": "code",
   "execution_count": null,
   "id": "aaba9573-ab31-4fea-aafc-b94fea8137d9",
   "metadata": {},
   "outputs": [],
   "source": []
  },
  {
   "cell_type": "code",
   "execution_count": null,
   "id": "06ece4e8-9df9-4958-a3c0-56b5a89f446e",
   "metadata": {},
   "outputs": [],
   "source": []
  },
  {
   "cell_type": "code",
   "execution_count": null,
   "id": "1679999a-1422-4691-bfd0-d1610e30815c",
   "metadata": {},
   "outputs": [],
   "source": []
  },
  {
   "cell_type": "code",
   "execution_count": null,
   "id": "76583946-464c-4650-8a8f-d96413784d08",
   "metadata": {},
   "outputs": [],
   "source": []
  },
  {
   "cell_type": "code",
   "execution_count": null,
   "id": "bec298bd-6191-49d9-82b9-40c6f8ffccd2",
   "metadata": {},
   "outputs": [],
   "source": []
  },
  {
   "cell_type": "code",
   "execution_count": null,
   "id": "a363576e-5cf2-401e-bb56-9069c30a72ee",
   "metadata": {},
   "outputs": [],
   "source": []
  },
  {
   "cell_type": "code",
   "execution_count": null,
   "id": "a7675712-1b07-4147-b1d1-64f07eb98793",
   "metadata": {},
   "outputs": [],
   "source": []
  },
  {
   "cell_type": "code",
   "execution_count": 27,
   "id": "a9afa54b-e112-448c-8043-95b15fd0629e",
   "metadata": {},
   "outputs": [],
   "source": [
    "# SimpleRNN Layer:\n",
    "# The SimpleRNN (Simple Recurrent Neural Network) layer is a type of recurrent layer in neural networks that is designed to process sequential data, such as time series or text data. It is based on the concept of recurrent neural networks (RNNs) and is particularly suitable for modeling dependencies and patterns over time.\n",
    "# The SimpleRNN layer processes input sequences by maintaining an internal state or memory that gets updated at each time step. It takes the input at the current time step along with the previous state and computes an output and an updated state. This allows the network to capture temporal dependencies and learn representations that consider the order and context of the input sequence.\n",
    "\n",
    "# However, SimpleRNN layers can suffer from vanishing gradient problems when dealing with long sequences, which can limit their ability to capture long-term dependencies. Therefore, more advanced recurrent layers like LSTM (Long Short-Term Memory) and GRU (Gated Recurrent Unit) are often preferred in practice. These layers address the vanishing gradient problem and have additional mechanisms to handle longer sequences more effectively.\n",
    "\n",
    "# Dropout Regularization:\n",
    "# Dropout is a regularization technique commonly used in neural networks, including recurrent neural networks (RNNs), to prevent overfitting. It helps to improve the generalization capability of the model and reduce the likelihood of the network relying too heavily on specific activations or features during training.\n",
    "# During training, the Dropout technique randomly sets a fraction of the input units or activations to zero at each update. This means that during each training iteration, a different random subset of units is \"dropped out\" or deactivated. This forces the network to learn more robust representations that are not overly dependent on specific neurons.\n",
    "\n",
    "# By randomly dropping out units, Dropout reduces the complex co-adaptations between neurons, making the network more resilient and less prone to overfitting. It can also be seen as an ensemble learning technique, where multiple subnetworks with shared weights are trained simultaneously.\n",
    "\n",
    "# In summary, the SimpleRNN layer is a recurrent layer that captures sequential dependencies in data, while Dropout is a regularization technique that helps prevent overfitting by randomly deactivating units or activations during training. Both techniques are valuable components in building neural network models for various tasks."
   ]
  }
 ],
 "metadata": {
  "kernelspec": {
   "display_name": "Python 3 (ipykernel)",
   "language": "python",
   "name": "python3"
  },
  "language_info": {
   "codemirror_mode": {
    "name": "ipython",
    "version": 3
   },
   "file_extension": ".py",
   "mimetype": "text/x-python",
   "name": "python",
   "nbconvert_exporter": "python",
   "pygments_lexer": "ipython3",
   "version": "3.9.7"
  }
 },
 "nbformat": 4,
 "nbformat_minor": 5
}
