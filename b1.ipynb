{
 "cells": [
  {
   "cell_type": "code",
   "execution_count": 1,
   "id": "acd3ee10-1223-46d7-8715-b8276ecc0b91",
   "metadata": {},
   "outputs": [],
   "source": [
    "import numpy as np\n",
    "import pandas as pd\n"
   ]
  },
  {
   "cell_type": "code",
   "execution_count": 2,
   "id": "81ae79ad-d68c-4b25-a11d-500ba56a30f5",
   "metadata": {},
   "outputs": [],
   "source": [
    "from sklearn.datasets import load_boston"
   ]
  },
  {
   "cell_type": "code",
   "execution_count": 3,
   "id": "4843d18b-df58-4d65-a73d-e611cd67ac19",
   "metadata": {},
   "outputs": [
    {
     "name": "stderr",
     "output_type": "stream",
     "text": [
      "/Users/tanuj/miniforge3/lib/python3.9/site-packages/sklearn/utils/deprecation.py:87: FutureWarning: Function load_boston is deprecated; `load_boston` is deprecated in 1.0 and will be removed in 1.2.\n",
      "\n",
      "    The Boston housing prices dataset has an ethical problem. You can refer to\n",
      "    the documentation of this function for further details.\n",
      "\n",
      "    The scikit-learn maintainers therefore strongly discourage the use of this\n",
      "    dataset unless the purpose of the code is to study and educate about\n",
      "    ethical issues in data science and machine learning.\n",
      "\n",
      "    In this special case, you can fetch the dataset from the original\n",
      "    source::\n",
      "\n",
      "        import pandas as pd\n",
      "        import numpy as np\n",
      "\n",
      "        data_url = \"http://lib.stat.cmu.edu/datasets/boston\"\n",
      "        raw_df = pd.read_csv(data_url, sep=\"\\s+\", skiprows=22, header=None)\n",
      "        data = np.hstack([raw_df.values[::2, :], raw_df.values[1::2, :2]])\n",
      "        target = raw_df.values[1::2, 2]\n",
      "\n",
      "    Alternative datasets include the California housing dataset (i.e.\n",
      "    :func:`~sklearn.datasets.fetch_california_housing`) and the Ames housing\n",
      "    dataset. You can load the datasets as follows::\n",
      "\n",
      "        from sklearn.datasets import fetch_california_housing\n",
      "        housing = fetch_california_housing()\n",
      "\n",
      "    for the California housing dataset and::\n",
      "\n",
      "        from sklearn.datasets import fetch_openml\n",
      "        housing = fetch_openml(name=\"house_prices\", as_frame=True)\n",
      "\n",
      "    for the Ames housing dataset.\n",
      "  warnings.warn(msg, category=FutureWarning)\n"
     ]
    }
   ],
   "source": [
    "boston = load_boston()"
   ]
  },
  {
   "cell_type": "code",
   "execution_count": 4,
   "id": "03906c82-f1bf-4f4b-a525-e1e0c2abccb9",
   "metadata": {},
   "outputs": [
    {
     "name": "stdout",
     "output_type": "stream",
     "text": [
      ".. _boston_dataset:\n",
      "\n",
      "Boston house prices dataset\n",
      "---------------------------\n",
      "\n",
      "**Data Set Characteristics:**  \n",
      "\n",
      "    :Number of Instances: 506 \n",
      "\n",
      "    :Number of Attributes: 13 numeric/categorical predictive. Median Value (attribute 14) is usually the target.\n",
      "\n",
      "    :Attribute Information (in order):\n",
      "        - CRIM     per capita crime rate by town\n",
      "        - ZN       proportion of residential land zoned for lots over 25,000 sq.ft.\n",
      "        - INDUS    proportion of non-retail business acres per town\n",
      "        - CHAS     Charles River dummy variable (= 1 if tract bounds river; 0 otherwise)\n",
      "        - NOX      nitric oxides concentration (parts per 10 million)\n",
      "        - RM       average number of rooms per dwelling\n",
      "        - AGE      proportion of owner-occupied units built prior to 1940\n",
      "        - DIS      weighted distances to five Boston employment centres\n",
      "        - RAD      index of accessibility to radial highways\n",
      "        - TAX      full-value property-tax rate per $10,000\n",
      "        - PTRATIO  pupil-teacher ratio by town\n",
      "        - B        1000(Bk - 0.63)^2 where Bk is the proportion of black people by town\n",
      "        - LSTAT    % lower status of the population\n",
      "        - MEDV     Median value of owner-occupied homes in $1000's\n",
      "\n",
      "    :Missing Attribute Values: None\n",
      "\n",
      "    :Creator: Harrison, D. and Rubinfeld, D.L.\n",
      "\n",
      "This is a copy of UCI ML housing dataset.\n",
      "https://archive.ics.uci.edu/ml/machine-learning-databases/housing/\n",
      "\n",
      "\n",
      "This dataset was taken from the StatLib library which is maintained at Carnegie Mellon University.\n",
      "\n",
      "The Boston house-price data of Harrison, D. and Rubinfeld, D.L. 'Hedonic\n",
      "prices and the demand for clean air', J. Environ. Economics & Management,\n",
      "vol.5, 81-102, 1978.   Used in Belsley, Kuh & Welsch, 'Regression diagnostics\n",
      "...', Wiley, 1980.   N.B. Various transformations are used in the table on\n",
      "pages 244-261 of the latter.\n",
      "\n",
      "The Boston house-price data has been used in many machine learning papers that address regression\n",
      "problems.   \n",
      "     \n",
      ".. topic:: References\n",
      "\n",
      "   - Belsley, Kuh & Welsch, 'Regression diagnostics: Identifying Influential Data and Sources of Collinearity', Wiley, 1980. 244-261.\n",
      "   - Quinlan,R. (1993). Combining Instance-Based and Model-Based Learning. In Proceedings on the Tenth International Conference of Machine Learning, 236-243, University of Massachusetts, Amherst. Morgan Kaufmann.\n",
      "\n"
     ]
    }
   ],
   "source": [
    "print(boston.DESCR)"
   ]
  },
  {
   "cell_type": "code",
   "execution_count": 5,
   "id": "fcb8e885-b726-4099-b2bf-6fb5973c8c04",
   "metadata": {},
   "outputs": [
    {
     "data": {
      "text/plain": [
       "['DESCR', 'data', 'data_module', 'feature_names', 'filename', 'target']"
      ]
     },
     "execution_count": 5,
     "metadata": {},
     "output_type": "execute_result"
    }
   ],
   "source": [
    "dir(boston)"
   ]
  },
  {
   "cell_type": "code",
   "execution_count": 6,
   "id": "6bbd7084-5c7e-40b3-aced-0adec57e364d",
   "metadata": {},
   "outputs": [],
   "source": [
    "df = pd.DataFrame(data = np.array(boston.data),columns = boston.feature_names)"
   ]
  },
  {
   "cell_type": "code",
   "execution_count": 7,
   "id": "0ce325fe-d9ae-408d-a651-46565420c9df",
   "metadata": {},
   "outputs": [],
   "source": [
    "df['MEDV'] = boston.target"
   ]
  },
  {
   "cell_type": "code",
   "execution_count": 8,
   "id": "e8fd479b-2198-4bb7-bf8e-088b1a6d75da",
   "metadata": {},
   "outputs": [
    {
     "data": {
      "text/html": [
       "<div>\n",
       "<style scoped>\n",
       "    .dataframe tbody tr th:only-of-type {\n",
       "        vertical-align: middle;\n",
       "    }\n",
       "\n",
       "    .dataframe tbody tr th {\n",
       "        vertical-align: top;\n",
       "    }\n",
       "\n",
       "    .dataframe thead th {\n",
       "        text-align: right;\n",
       "    }\n",
       "</style>\n",
       "<table border=\"1\" class=\"dataframe\">\n",
       "  <thead>\n",
       "    <tr style=\"text-align: right;\">\n",
       "      <th></th>\n",
       "      <th>CRIM</th>\n",
       "      <th>ZN</th>\n",
       "      <th>INDUS</th>\n",
       "      <th>CHAS</th>\n",
       "      <th>NOX</th>\n",
       "      <th>RM</th>\n",
       "      <th>AGE</th>\n",
       "      <th>DIS</th>\n",
       "      <th>RAD</th>\n",
       "      <th>TAX</th>\n",
       "      <th>PTRATIO</th>\n",
       "      <th>B</th>\n",
       "      <th>LSTAT</th>\n",
       "      <th>MEDV</th>\n",
       "    </tr>\n",
       "  </thead>\n",
       "  <tbody>\n",
       "    <tr>\n",
       "      <th>0</th>\n",
       "      <td>0.00632</td>\n",
       "      <td>18.0</td>\n",
       "      <td>2.31</td>\n",
       "      <td>0.0</td>\n",
       "      <td>0.538</td>\n",
       "      <td>6.575</td>\n",
       "      <td>65.2</td>\n",
       "      <td>4.0900</td>\n",
       "      <td>1.0</td>\n",
       "      <td>296.0</td>\n",
       "      <td>15.3</td>\n",
       "      <td>396.90</td>\n",
       "      <td>4.98</td>\n",
       "      <td>24.0</td>\n",
       "    </tr>\n",
       "    <tr>\n",
       "      <th>1</th>\n",
       "      <td>0.02731</td>\n",
       "      <td>0.0</td>\n",
       "      <td>7.07</td>\n",
       "      <td>0.0</td>\n",
       "      <td>0.469</td>\n",
       "      <td>6.421</td>\n",
       "      <td>78.9</td>\n",
       "      <td>4.9671</td>\n",
       "      <td>2.0</td>\n",
       "      <td>242.0</td>\n",
       "      <td>17.8</td>\n",
       "      <td>396.90</td>\n",
       "      <td>9.14</td>\n",
       "      <td>21.6</td>\n",
       "    </tr>\n",
       "    <tr>\n",
       "      <th>2</th>\n",
       "      <td>0.02729</td>\n",
       "      <td>0.0</td>\n",
       "      <td>7.07</td>\n",
       "      <td>0.0</td>\n",
       "      <td>0.469</td>\n",
       "      <td>7.185</td>\n",
       "      <td>61.1</td>\n",
       "      <td>4.9671</td>\n",
       "      <td>2.0</td>\n",
       "      <td>242.0</td>\n",
       "      <td>17.8</td>\n",
       "      <td>392.83</td>\n",
       "      <td>4.03</td>\n",
       "      <td>34.7</td>\n",
       "    </tr>\n",
       "    <tr>\n",
       "      <th>3</th>\n",
       "      <td>0.03237</td>\n",
       "      <td>0.0</td>\n",
       "      <td>2.18</td>\n",
       "      <td>0.0</td>\n",
       "      <td>0.458</td>\n",
       "      <td>6.998</td>\n",
       "      <td>45.8</td>\n",
       "      <td>6.0622</td>\n",
       "      <td>3.0</td>\n",
       "      <td>222.0</td>\n",
       "      <td>18.7</td>\n",
       "      <td>394.63</td>\n",
       "      <td>2.94</td>\n",
       "      <td>33.4</td>\n",
       "    </tr>\n",
       "    <tr>\n",
       "      <th>4</th>\n",
       "      <td>0.06905</td>\n",
       "      <td>0.0</td>\n",
       "      <td>2.18</td>\n",
       "      <td>0.0</td>\n",
       "      <td>0.458</td>\n",
       "      <td>7.147</td>\n",
       "      <td>54.2</td>\n",
       "      <td>6.0622</td>\n",
       "      <td>3.0</td>\n",
       "      <td>222.0</td>\n",
       "      <td>18.7</td>\n",
       "      <td>396.90</td>\n",
       "      <td>5.33</td>\n",
       "      <td>36.2</td>\n",
       "    </tr>\n",
       "  </tbody>\n",
       "</table>\n",
       "</div>"
      ],
      "text/plain": [
       "      CRIM    ZN  INDUS  CHAS    NOX     RM   AGE     DIS  RAD    TAX  \\\n",
       "0  0.00632  18.0   2.31   0.0  0.538  6.575  65.2  4.0900  1.0  296.0   \n",
       "1  0.02731   0.0   7.07   0.0  0.469  6.421  78.9  4.9671  2.0  242.0   \n",
       "2  0.02729   0.0   7.07   0.0  0.469  7.185  61.1  4.9671  2.0  242.0   \n",
       "3  0.03237   0.0   2.18   0.0  0.458  6.998  45.8  6.0622  3.0  222.0   \n",
       "4  0.06905   0.0   2.18   0.0  0.458  7.147  54.2  6.0622  3.0  222.0   \n",
       "\n",
       "   PTRATIO       B  LSTAT  MEDV  \n",
       "0     15.3  396.90   4.98  24.0  \n",
       "1     17.8  396.90   9.14  21.6  \n",
       "2     17.8  392.83   4.03  34.7  \n",
       "3     18.7  394.63   2.94  33.4  \n",
       "4     18.7  396.90   5.33  36.2  "
      ]
     },
     "execution_count": 8,
     "metadata": {},
     "output_type": "execute_result"
    }
   ],
   "source": [
    "df.head()"
   ]
  },
  {
   "cell_type": "code",
   "execution_count": 9,
   "id": "45e33f31-f6b0-42e4-97a2-d90259d43784",
   "metadata": {},
   "outputs": [
    {
     "data": {
      "text/plain": [
       "CRIM       0\n",
       "ZN         0\n",
       "INDUS      0\n",
       "CHAS       0\n",
       "NOX        0\n",
       "RM         0\n",
       "AGE        0\n",
       "DIS        0\n",
       "RAD        0\n",
       "TAX        0\n",
       "PTRATIO    0\n",
       "B          0\n",
       "LSTAT      0\n",
       "MEDV       0\n",
       "dtype: int64"
      ]
     },
     "execution_count": 9,
     "metadata": {},
     "output_type": "execute_result"
    }
   ],
   "source": [
    "df.isnull().sum()"
   ]
  },
  {
   "cell_type": "code",
   "execution_count": 10,
   "id": "140496ae-388b-4ef7-b908-589b580ee8bb",
   "metadata": {},
   "outputs": [
    {
     "name": "stdout",
     "output_type": "stream",
     "text": [
      "<class 'pandas.core.frame.DataFrame'>\n",
      "RangeIndex: 506 entries, 0 to 505\n",
      "Data columns (total 14 columns):\n",
      " #   Column   Non-Null Count  Dtype  \n",
      "---  ------   --------------  -----  \n",
      " 0   CRIM     506 non-null    float64\n",
      " 1   ZN       506 non-null    float64\n",
      " 2   INDUS    506 non-null    float64\n",
      " 3   CHAS     506 non-null    float64\n",
      " 4   NOX      506 non-null    float64\n",
      " 5   RM       506 non-null    float64\n",
      " 6   AGE      506 non-null    float64\n",
      " 7   DIS      506 non-null    float64\n",
      " 8   RAD      506 non-null    float64\n",
      " 9   TAX      506 non-null    float64\n",
      " 10  PTRATIO  506 non-null    float64\n",
      " 11  B        506 non-null    float64\n",
      " 12  LSTAT    506 non-null    float64\n",
      " 13  MEDV     506 non-null    float64\n",
      "dtypes: float64(14)\n",
      "memory usage: 55.5 KB\n"
     ]
    }
   ],
   "source": [
    "df.info()"
   ]
  },
  {
   "cell_type": "code",
   "execution_count": 11,
   "id": "b63ea145-901e-4204-837e-d6c4ddad21a2",
   "metadata": {},
   "outputs": [
    {
     "data": {
      "text/html": [
       "<div>\n",
       "<style scoped>\n",
       "    .dataframe tbody tr th:only-of-type {\n",
       "        vertical-align: middle;\n",
       "    }\n",
       "\n",
       "    .dataframe tbody tr th {\n",
       "        vertical-align: top;\n",
       "    }\n",
       "\n",
       "    .dataframe thead th {\n",
       "        text-align: right;\n",
       "    }\n",
       "</style>\n",
       "<table border=\"1\" class=\"dataframe\">\n",
       "  <thead>\n",
       "    <tr style=\"text-align: right;\">\n",
       "      <th></th>\n",
       "      <th>CRIM</th>\n",
       "      <th>ZN</th>\n",
       "      <th>INDUS</th>\n",
       "      <th>CHAS</th>\n",
       "      <th>NOX</th>\n",
       "      <th>RM</th>\n",
       "      <th>AGE</th>\n",
       "      <th>DIS</th>\n",
       "      <th>RAD</th>\n",
       "      <th>TAX</th>\n",
       "      <th>PTRATIO</th>\n",
       "      <th>B</th>\n",
       "      <th>LSTAT</th>\n",
       "      <th>MEDV</th>\n",
       "    </tr>\n",
       "  </thead>\n",
       "  <tbody>\n",
       "    <tr>\n",
       "      <th>count</th>\n",
       "      <td>506.000000</td>\n",
       "      <td>506.000000</td>\n",
       "      <td>506.000000</td>\n",
       "      <td>506.000000</td>\n",
       "      <td>506.000000</td>\n",
       "      <td>506.000000</td>\n",
       "      <td>506.000000</td>\n",
       "      <td>506.000000</td>\n",
       "      <td>506.000000</td>\n",
       "      <td>506.000000</td>\n",
       "      <td>506.000000</td>\n",
       "      <td>506.000000</td>\n",
       "      <td>506.000000</td>\n",
       "      <td>506.000000</td>\n",
       "    </tr>\n",
       "    <tr>\n",
       "      <th>mean</th>\n",
       "      <td>3.613524</td>\n",
       "      <td>11.363636</td>\n",
       "      <td>11.136779</td>\n",
       "      <td>0.069170</td>\n",
       "      <td>0.554695</td>\n",
       "      <td>6.284634</td>\n",
       "      <td>68.574901</td>\n",
       "      <td>3.795043</td>\n",
       "      <td>9.549407</td>\n",
       "      <td>408.237154</td>\n",
       "      <td>18.455534</td>\n",
       "      <td>356.674032</td>\n",
       "      <td>12.653063</td>\n",
       "      <td>22.532806</td>\n",
       "    </tr>\n",
       "    <tr>\n",
       "      <th>std</th>\n",
       "      <td>8.601545</td>\n",
       "      <td>23.322453</td>\n",
       "      <td>6.860353</td>\n",
       "      <td>0.253994</td>\n",
       "      <td>0.115878</td>\n",
       "      <td>0.702617</td>\n",
       "      <td>28.148861</td>\n",
       "      <td>2.105710</td>\n",
       "      <td>8.707259</td>\n",
       "      <td>168.537116</td>\n",
       "      <td>2.164946</td>\n",
       "      <td>91.294864</td>\n",
       "      <td>7.141062</td>\n",
       "      <td>9.197104</td>\n",
       "    </tr>\n",
       "    <tr>\n",
       "      <th>min</th>\n",
       "      <td>0.006320</td>\n",
       "      <td>0.000000</td>\n",
       "      <td>0.460000</td>\n",
       "      <td>0.000000</td>\n",
       "      <td>0.385000</td>\n",
       "      <td>3.561000</td>\n",
       "      <td>2.900000</td>\n",
       "      <td>1.129600</td>\n",
       "      <td>1.000000</td>\n",
       "      <td>187.000000</td>\n",
       "      <td>12.600000</td>\n",
       "      <td>0.320000</td>\n",
       "      <td>1.730000</td>\n",
       "      <td>5.000000</td>\n",
       "    </tr>\n",
       "    <tr>\n",
       "      <th>25%</th>\n",
       "      <td>0.082045</td>\n",
       "      <td>0.000000</td>\n",
       "      <td>5.190000</td>\n",
       "      <td>0.000000</td>\n",
       "      <td>0.449000</td>\n",
       "      <td>5.885500</td>\n",
       "      <td>45.025000</td>\n",
       "      <td>2.100175</td>\n",
       "      <td>4.000000</td>\n",
       "      <td>279.000000</td>\n",
       "      <td>17.400000</td>\n",
       "      <td>375.377500</td>\n",
       "      <td>6.950000</td>\n",
       "      <td>17.025000</td>\n",
       "    </tr>\n",
       "    <tr>\n",
       "      <th>50%</th>\n",
       "      <td>0.256510</td>\n",
       "      <td>0.000000</td>\n",
       "      <td>9.690000</td>\n",
       "      <td>0.000000</td>\n",
       "      <td>0.538000</td>\n",
       "      <td>6.208500</td>\n",
       "      <td>77.500000</td>\n",
       "      <td>3.207450</td>\n",
       "      <td>5.000000</td>\n",
       "      <td>330.000000</td>\n",
       "      <td>19.050000</td>\n",
       "      <td>391.440000</td>\n",
       "      <td>11.360000</td>\n",
       "      <td>21.200000</td>\n",
       "    </tr>\n",
       "    <tr>\n",
       "      <th>75%</th>\n",
       "      <td>3.677083</td>\n",
       "      <td>12.500000</td>\n",
       "      <td>18.100000</td>\n",
       "      <td>0.000000</td>\n",
       "      <td>0.624000</td>\n",
       "      <td>6.623500</td>\n",
       "      <td>94.075000</td>\n",
       "      <td>5.188425</td>\n",
       "      <td>24.000000</td>\n",
       "      <td>666.000000</td>\n",
       "      <td>20.200000</td>\n",
       "      <td>396.225000</td>\n",
       "      <td>16.955000</td>\n",
       "      <td>25.000000</td>\n",
       "    </tr>\n",
       "    <tr>\n",
       "      <th>max</th>\n",
       "      <td>88.976200</td>\n",
       "      <td>100.000000</td>\n",
       "      <td>27.740000</td>\n",
       "      <td>1.000000</td>\n",
       "      <td>0.871000</td>\n",
       "      <td>8.780000</td>\n",
       "      <td>100.000000</td>\n",
       "      <td>12.126500</td>\n",
       "      <td>24.000000</td>\n",
       "      <td>711.000000</td>\n",
       "      <td>22.000000</td>\n",
       "      <td>396.900000</td>\n",
       "      <td>37.970000</td>\n",
       "      <td>50.000000</td>\n",
       "    </tr>\n",
       "  </tbody>\n",
       "</table>\n",
       "</div>"
      ],
      "text/plain": [
       "             CRIM          ZN       INDUS        CHAS         NOX          RM  \\\n",
       "count  506.000000  506.000000  506.000000  506.000000  506.000000  506.000000   \n",
       "mean     3.613524   11.363636   11.136779    0.069170    0.554695    6.284634   \n",
       "std      8.601545   23.322453    6.860353    0.253994    0.115878    0.702617   \n",
       "min      0.006320    0.000000    0.460000    0.000000    0.385000    3.561000   \n",
       "25%      0.082045    0.000000    5.190000    0.000000    0.449000    5.885500   \n",
       "50%      0.256510    0.000000    9.690000    0.000000    0.538000    6.208500   \n",
       "75%      3.677083   12.500000   18.100000    0.000000    0.624000    6.623500   \n",
       "max     88.976200  100.000000   27.740000    1.000000    0.871000    8.780000   \n",
       "\n",
       "              AGE         DIS         RAD         TAX     PTRATIO           B  \\\n",
       "count  506.000000  506.000000  506.000000  506.000000  506.000000  506.000000   \n",
       "mean    68.574901    3.795043    9.549407  408.237154   18.455534  356.674032   \n",
       "std     28.148861    2.105710    8.707259  168.537116    2.164946   91.294864   \n",
       "min      2.900000    1.129600    1.000000  187.000000   12.600000    0.320000   \n",
       "25%     45.025000    2.100175    4.000000  279.000000   17.400000  375.377500   \n",
       "50%     77.500000    3.207450    5.000000  330.000000   19.050000  391.440000   \n",
       "75%     94.075000    5.188425   24.000000  666.000000   20.200000  396.225000   \n",
       "max    100.000000   12.126500   24.000000  711.000000   22.000000  396.900000   \n",
       "\n",
       "            LSTAT        MEDV  \n",
       "count  506.000000  506.000000  \n",
       "mean    12.653063   22.532806  \n",
       "std      7.141062    9.197104  \n",
       "min      1.730000    5.000000  \n",
       "25%      6.950000   17.025000  \n",
       "50%     11.360000   21.200000  \n",
       "75%     16.955000   25.000000  \n",
       "max     37.970000   50.000000  "
      ]
     },
     "execution_count": 11,
     "metadata": {},
     "output_type": "execute_result"
    }
   ],
   "source": [
    "df.describe()"
   ]
  },
  {
   "cell_type": "code",
   "execution_count": 12,
   "id": "864efe3c-7d4b-42a8-9db1-96331a8e5bf5",
   "metadata": {},
   "outputs": [],
   "source": [
    "#checking correlation with target variable"
   ]
  },
  {
   "cell_type": "code",
   "execution_count": 13,
   "id": "a726013d-aad7-47a9-a888-0d07dcda7152",
   "metadata": {},
   "outputs": [
    {
     "data": {
      "text/plain": [
       "LSTAT     -0.737663\n",
       "PTRATIO   -0.507787\n",
       "INDUS     -0.483725\n",
       "TAX       -0.468536\n",
       "NOX       -0.427321\n",
       "CRIM      -0.388305\n",
       "RAD       -0.381626\n",
       "AGE       -0.376955\n",
       "CHAS       0.175260\n",
       "DIS        0.249929\n",
       "B          0.333461\n",
       "ZN         0.360445\n",
       "RM         0.695360\n",
       "MEDV       1.000000\n",
       "Name: MEDV, dtype: float64"
      ]
     },
     "execution_count": 13,
     "metadata": {},
     "output_type": "execute_result"
    }
   ],
   "source": [
    "df.corr()['MEDV'].sort_values()"
   ]
  },
  {
   "cell_type": "code",
   "execution_count": 14,
   "id": "49d524d7-acfc-40a6-84c0-7eaddd56ec9b",
   "metadata": {},
   "outputs": [
    {
     "data": {
      "text/plain": [
       "((506, 3), (506,))"
      ]
     },
     "execution_count": 14,
     "metadata": {},
     "output_type": "execute_result"
    }
   ],
   "source": [
    "X = df.loc[:,['LSTAT','PTRATIO','RM']]\n",
    "Y = df.loc[:,\"MEDV\"]\n",
    "X.shape,Y.shape"
   ]
  },
  {
   "cell_type": "code",
   "execution_count": 15,
   "id": "79232afe-26cb-4de5-b1d1-a8df6a555e19",
   "metadata": {},
   "outputs": [],
   "source": [
    "from sklearn.model_selection import train_test_split\n",
    "x_train, x_test, y_train, y_test = train_test_split(X,Y, test_size=0.25, random_state=42)"
   ]
  },
  {
   "cell_type": "code",
   "execution_count": 16,
   "id": "fb7bec3f-1a77-4fb6-9578-e6cd271d0df6",
   "metadata": {},
   "outputs": [],
   "source": [
    "# normalizing data"
   ]
  },
  {
   "cell_type": "code",
   "execution_count": 17,
   "id": "5f7151f0-bb4c-482a-8a66-d9eca9a47d87",
   "metadata": {},
   "outputs": [],
   "source": [
    "from sklearn.preprocessing import StandardScaler\n",
    "sc = StandardScaler()\n",
    "x_train = sc.fit_transform(x_train)\n",
    "x_test = sc.transform(x_test)"
   ]
  },
  {
   "cell_type": "code",
   "execution_count": 18,
   "id": "c3e13bc9-2336-40dd-bada-13ae819dafc0",
   "metadata": {},
   "outputs": [],
   "source": [
    "# prepare the model"
   ]
  },
  {
   "cell_type": "code",
   "execution_count": 19,
   "id": "e89af1fe-c83c-4e23-a5d5-7a066c886515",
   "metadata": {},
   "outputs": [],
   "source": [
    "from tensorflow.keras.models import Sequential\n",
    "from tensorflow.keras.layers import Dense"
   ]
  },
  {
   "cell_type": "code",
   "execution_count": 20,
   "id": "df4c5169-3cd3-4769-b72a-73ced16a44b1",
   "metadata": {},
   "outputs": [
    {
     "name": "stdout",
     "output_type": "stream",
     "text": [
      "Metal device set to: Apple M1\n"
     ]
    },
    {
     "name": "stderr",
     "output_type": "stream",
     "text": [
      "2023-05-23 22:26:55.911130: I tensorflow/core/common_runtime/pluggable_device/pluggable_device_factory.cc:306] Could not identify NUMA node of platform GPU ID 0, defaulting to 0. Your kernel may not have been built with NUMA support.\n",
      "2023-05-23 22:26:55.911242: I tensorflow/core/common_runtime/pluggable_device/pluggable_device_factory.cc:272] Created TensorFlow device (/job:localhost/replica:0/task:0/device:GPU:0 with 0 MB memory) -> physical PluggableDevice (device: 0, name: METAL, pci bus id: <undefined>)\n"
     ]
    }
   ],
   "source": [
    "model = Sequential()"
   ]
  },
  {
   "cell_type": "code",
   "execution_count": 21,
   "id": "1a9421db-7240-457c-96c0-70f04b5b55f7",
   "metadata": {},
   "outputs": [],
   "source": [
    "model.add(Dense(units = 128, input_shape = (3,),activation = 'relu', name='input'))\n",
    "model.add(Dense(64,activation='relu'))\n",
    "model.add(Dense(1,activation='linear',name = 'output'))\n",
    "model.compile(optimizer='adam',loss='mse',metrics=['mae'])"
   ]
  },
  {
   "cell_type": "code",
   "execution_count": 22,
   "id": "da1a2314-b604-4047-a566-d2e03938d857",
   "metadata": {},
   "outputs": [
    {
     "name": "stdout",
     "output_type": "stream",
     "text": [
      "Model: \"sequential\"\n",
      "_________________________________________________________________\n",
      " Layer (type)                Output Shape              Param #   \n",
      "=================================================================\n",
      " input (Dense)               (None, 128)               512       \n",
      "                                                                 \n",
      " dense (Dense)               (None, 64)                8256      \n",
      "                                                                 \n",
      " output (Dense)              (None, 1)                 65        \n",
      "                                                                 \n",
      "=================================================================\n",
      "Total params: 8,833\n",
      "Trainable params: 8,833\n",
      "Non-trainable params: 0\n",
      "_________________________________________________________________\n"
     ]
    }
   ],
   "source": [
    "model.summary()"
   ]
  },
  {
   "cell_type": "code",
   "execution_count": 23,
   "id": "9c82faac-5236-4974-9020-df21bacbea7f",
   "metadata": {},
   "outputs": [
    {
     "name": "stdout",
     "output_type": "stream",
     "text": [
      "Epoch 1/100\n"
     ]
    },
    {
     "name": "stderr",
     "output_type": "stream",
     "text": [
      "2023-05-23 22:26:56.148909: W tensorflow/core/platform/profile_utils/cpu_utils.cc:128] Failed to get CPU frequency: 0 Hz\n",
      "2023-05-23 22:26:56.288935: I tensorflow/core/grappler/optimizers/custom_graph_optimizer_registry.cc:114] Plugin optimizer for device_type GPU is enabled.\n"
     ]
    },
    {
     "name": "stdout",
     "output_type": "stream",
     "text": [
      "19/19 [==============================] - ETA: 0s - loss: 584.3271 - mae: 22.1775"
     ]
    },
    {
     "name": "stderr",
     "output_type": "stream",
     "text": [
      "2023-05-23 22:26:57.515267: I tensorflow/core/grappler/optimizers/custom_graph_optimizer_registry.cc:114] Plugin optimizer for device_type GPU is enabled.\n"
     ]
    },
    {
     "name": "stdout",
     "output_type": "stream",
     "text": [
      "19/19 [==============================] - 2s 47ms/step - loss: 584.3271 - mae: 22.1775 - val_loss: 503.0587 - val_mae: 20.8837\n",
      "Epoch 2/100\n",
      "19/19 [==============================] - 0s 6ms/step - loss: 498.2484 - mae: 20.2121 - val_loss: 399.4713 - val_mae: 18.3860\n",
      "Epoch 3/100\n",
      "19/19 [==============================] - 0s 6ms/step - loss: 366.1985 - mae: 16.8736 - val_loss: 252.2590 - val_mae: 14.4358\n",
      "Epoch 4/100\n",
      "19/19 [==============================] - 0s 6ms/step - loss: 195.1660 - mae: 12.1652 - val_loss: 108.1757 - val_mae: 8.9940\n",
      "Epoch 5/100\n",
      "19/19 [==============================] - 0s 6ms/step - loss: 79.1751 - mae: 7.3686 - val_loss: 44.3225 - val_mae: 4.7773\n",
      "Epoch 6/100\n",
      "19/19 [==============================] - 0s 6ms/step - loss: 44.4402 - mae: 5.1402 - val_loss: 36.7697 - val_mae: 4.1581\n",
      "Epoch 7/100\n",
      "19/19 [==============================] - 0s 6ms/step - loss: 35.7948 - mae: 4.5029 - val_loss: 30.9357 - val_mae: 3.6985\n",
      "Epoch 8/100\n",
      "19/19 [==============================] - 0s 7ms/step - loss: 31.4706 - mae: 4.2302 - val_loss: 28.3500 - val_mae: 3.4928\n",
      "Epoch 9/100\n",
      "19/19 [==============================] - 0s 7ms/step - loss: 29.0774 - mae: 4.0683 - val_loss: 27.7568 - val_mae: 3.4709\n",
      "Epoch 10/100\n",
      "19/19 [==============================] - 0s 6ms/step - loss: 27.4502 - mae: 3.9560 - val_loss: 26.6853 - val_mae: 3.4389\n",
      "Epoch 11/100\n",
      "19/19 [==============================] - 0s 6ms/step - loss: 26.3362 - mae: 3.8790 - val_loss: 26.1228 - val_mae: 3.4254\n",
      "Epoch 12/100\n",
      "19/19 [==============================] - 0s 6ms/step - loss: 25.5651 - mae: 3.8153 - val_loss: 25.8413 - val_mae: 3.3981\n",
      "Epoch 13/100\n",
      "19/19 [==============================] - 0s 7ms/step - loss: 24.8727 - mae: 3.7672 - val_loss: 25.2844 - val_mae: 3.3301\n",
      "Epoch 14/100\n",
      "19/19 [==============================] - 0s 7ms/step - loss: 24.0685 - mae: 3.7251 - val_loss: 25.0627 - val_mae: 3.3646\n",
      "Epoch 15/100\n",
      "19/19 [==============================] - 0s 6ms/step - loss: 23.4501 - mae: 3.6643 - val_loss: 24.7326 - val_mae: 3.3002\n",
      "Epoch 16/100\n",
      "19/19 [==============================] - 0s 6ms/step - loss: 22.9549 - mae: 3.6135 - val_loss: 24.7200 - val_mae: 3.2951\n",
      "Epoch 17/100\n",
      "19/19 [==============================] - 0s 6ms/step - loss: 22.3329 - mae: 3.5637 - val_loss: 24.2897 - val_mae: 3.2610\n",
      "Epoch 18/100\n",
      "19/19 [==============================] - 0s 6ms/step - loss: 22.0622 - mae: 3.5483 - val_loss: 24.2155 - val_mae: 3.2476\n",
      "Epoch 19/100\n",
      "19/19 [==============================] - 0s 6ms/step - loss: 21.4321 - mae: 3.4817 - val_loss: 23.5368 - val_mae: 3.1812\n",
      "Epoch 20/100\n",
      "19/19 [==============================] - 0s 7ms/step - loss: 21.1763 - mae: 3.4595 - val_loss: 23.7076 - val_mae: 3.1969\n",
      "Epoch 21/100\n",
      "19/19 [==============================] - 0s 7ms/step - loss: 21.0009 - mae: 3.4183 - val_loss: 23.3241 - val_mae: 3.1448\n",
      "Epoch 22/100\n",
      "19/19 [==============================] - 0s 6ms/step - loss: 20.5330 - mae: 3.4044 - val_loss: 23.2836 - val_mae: 3.1309\n",
      "Epoch 23/100\n",
      "19/19 [==============================] - 0s 6ms/step - loss: 20.2419 - mae: 3.3927 - val_loss: 23.0339 - val_mae: 3.1034\n",
      "Epoch 24/100\n",
      "19/19 [==============================] - 0s 6ms/step - loss: 19.9060 - mae: 3.3232 - val_loss: 22.6895 - val_mae: 3.0675\n",
      "Epoch 25/100\n",
      "19/19 [==============================] - 0s 6ms/step - loss: 19.9037 - mae: 3.3162 - val_loss: 22.8539 - val_mae: 3.0486\n",
      "Epoch 26/100\n",
      "19/19 [==============================] - 0s 7ms/step - loss: 19.2431 - mae: 3.2605 - val_loss: 22.1941 - val_mae: 2.9826\n",
      "Epoch 27/100\n",
      "19/19 [==============================] - 0s 6ms/step - loss: 19.2210 - mae: 3.2815 - val_loss: 22.1208 - val_mae: 2.9722\n",
      "Epoch 28/100\n",
      "19/19 [==============================] - 0s 6ms/step - loss: 18.9520 - mae: 3.2393 - val_loss: 22.7671 - val_mae: 3.0539\n",
      "Epoch 29/100\n",
      "19/19 [==============================] - 0s 6ms/step - loss: 18.7049 - mae: 3.2063 - val_loss: 21.9779 - val_mae: 2.9469\n",
      "Epoch 30/100\n",
      "19/19 [==============================] - 0s 6ms/step - loss: 18.5741 - mae: 3.2138 - val_loss: 22.2740 - val_mae: 2.9836\n",
      "Epoch 31/100\n",
      "19/19 [==============================] - 0s 6ms/step - loss: 18.1789 - mae: 3.1478 - val_loss: 21.7558 - val_mae: 2.9077\n",
      "Epoch 32/100\n",
      "19/19 [==============================] - 0s 6ms/step - loss: 18.1130 - mae: 3.1470 - val_loss: 22.2065 - val_mae: 2.9761\n",
      "Epoch 33/100\n",
      "19/19 [==============================] - 0s 6ms/step - loss: 17.8326 - mae: 3.1425 - val_loss: 21.6256 - val_mae: 2.8949\n",
      "Epoch 34/100\n",
      "19/19 [==============================] - 0s 6ms/step - loss: 17.7436 - mae: 3.1116 - val_loss: 21.6172 - val_mae: 2.8836\n",
      "Epoch 35/100\n",
      "19/19 [==============================] - 0s 6ms/step - loss: 17.8605 - mae: 3.1328 - val_loss: 21.5511 - val_mae: 2.8774\n",
      "Epoch 36/100\n",
      "19/19 [==============================] - 0s 6ms/step - loss: 17.7179 - mae: 3.0909 - val_loss: 21.5198 - val_mae: 2.8806\n",
      "Epoch 37/100\n",
      "19/19 [==============================] - 0s 6ms/step - loss: 17.1839 - mae: 3.0580 - val_loss: 21.3213 - val_mae: 2.8535\n",
      "Epoch 38/100\n",
      "19/19 [==============================] - 0s 6ms/step - loss: 17.2143 - mae: 3.0460 - val_loss: 21.4353 - val_mae: 2.8600\n",
      "Epoch 39/100\n",
      "19/19 [==============================] - 0s 6ms/step - loss: 17.0243 - mae: 3.0275 - val_loss: 21.0097 - val_mae: 2.8052\n",
      "Epoch 40/100\n",
      "19/19 [==============================] - 0s 6ms/step - loss: 16.8925 - mae: 3.0155 - val_loss: 21.2044 - val_mae: 2.8358\n",
      "Epoch 41/100\n",
      "19/19 [==============================] - 0s 6ms/step - loss: 17.0298 - mae: 3.0294 - val_loss: 21.0713 - val_mae: 2.7993\n",
      "Epoch 42/100\n",
      "19/19 [==============================] - 0s 6ms/step - loss: 16.4804 - mae: 2.9651 - val_loss: 21.0555 - val_mae: 2.8154\n",
      "Epoch 43/100\n",
      "19/19 [==============================] - 0s 6ms/step - loss: 16.4353 - mae: 2.9746 - val_loss: 20.9996 - val_mae: 2.8009\n",
      "Epoch 44/100\n",
      "19/19 [==============================] - 0s 6ms/step - loss: 16.2590 - mae: 2.9509 - val_loss: 20.7372 - val_mae: 2.7743\n",
      "Epoch 45/100\n",
      "19/19 [==============================] - 0s 6ms/step - loss: 16.3139 - mae: 2.9609 - val_loss: 20.6118 - val_mae: 2.7488\n",
      "Epoch 46/100\n",
      "19/19 [==============================] - 0s 7ms/step - loss: 15.8997 - mae: 2.9199 - val_loss: 21.0405 - val_mae: 2.8097\n",
      "Epoch 47/100\n",
      "19/19 [==============================] - 0s 7ms/step - loss: 15.9842 - mae: 2.9432 - val_loss: 21.0016 - val_mae: 2.8064\n",
      "Epoch 48/100\n",
      "19/19 [==============================] - 0s 6ms/step - loss: 16.0675 - mae: 2.9069 - val_loss: 20.7224 - val_mae: 2.7669\n",
      "Epoch 49/100\n",
      "19/19 [==============================] - 0s 6ms/step - loss: 16.1377 - mae: 2.9939 - val_loss: 20.7523 - val_mae: 2.7683\n",
      "Epoch 50/100\n",
      "19/19 [==============================] - 0s 6ms/step - loss: 15.9545 - mae: 2.8686 - val_loss: 20.3295 - val_mae: 2.7169\n",
      "Epoch 51/100\n",
      "19/19 [==============================] - 0s 6ms/step - loss: 15.4798 - mae: 2.8943 - val_loss: 21.0115 - val_mae: 2.7943\n",
      "Epoch 52/100\n",
      "19/19 [==============================] - 0s 6ms/step - loss: 15.5810 - mae: 2.8631 - val_loss: 20.3473 - val_mae: 2.7347\n",
      "Epoch 53/100\n",
      "19/19 [==============================] - 0s 6ms/step - loss: 15.2218 - mae: 2.8675 - val_loss: 21.0017 - val_mae: 2.8084\n",
      "Epoch 54/100\n",
      "19/19 [==============================] - 0s 6ms/step - loss: 15.4418 - mae: 2.8333 - val_loss: 20.6407 - val_mae: 2.7585\n",
      "Epoch 55/100\n",
      "19/19 [==============================] - 0s 6ms/step - loss: 15.1922 - mae: 2.8537 - val_loss: 20.1980 - val_mae: 2.7120\n",
      "Epoch 56/100\n",
      "19/19 [==============================] - 0s 6ms/step - loss: 15.2879 - mae: 2.8263 - val_loss: 20.7205 - val_mae: 2.7693\n",
      "Epoch 57/100\n",
      "19/19 [==============================] - 0s 6ms/step - loss: 14.9510 - mae: 2.8256 - val_loss: 20.4870 - val_mae: 2.7524\n",
      "Epoch 58/100\n",
      "19/19 [==============================] - 0s 6ms/step - loss: 15.1261 - mae: 2.8303 - val_loss: 20.6072 - val_mae: 2.7729\n",
      "Epoch 59/100\n",
      "19/19 [==============================] - 0s 6ms/step - loss: 14.9882 - mae: 2.8123 - val_loss: 19.9757 - val_mae: 2.6830\n",
      "Epoch 60/100\n",
      "19/19 [==============================] - 0s 6ms/step - loss: 14.9071 - mae: 2.7964 - val_loss: 20.6293 - val_mae: 2.7495\n",
      "Epoch 61/100\n",
      "19/19 [==============================] - 0s 6ms/step - loss: 14.9370 - mae: 2.8138 - val_loss: 20.4805 - val_mae: 2.7520\n",
      "Epoch 62/100\n",
      "19/19 [==============================] - 0s 6ms/step - loss: 14.9806 - mae: 2.7843 - val_loss: 20.3395 - val_mae: 2.7090\n",
      "Epoch 63/100\n",
      "19/19 [==============================] - 0s 6ms/step - loss: 14.9480 - mae: 2.8518 - val_loss: 20.2425 - val_mae: 2.7230\n",
      "Epoch 64/100\n",
      "19/19 [==============================] - 0s 6ms/step - loss: 14.6215 - mae: 2.7675 - val_loss: 20.5057 - val_mae: 2.7494\n",
      "Epoch 65/100\n",
      "19/19 [==============================] - 0s 6ms/step - loss: 14.7873 - mae: 2.7859 - val_loss: 19.7731 - val_mae: 2.6576\n",
      "Epoch 66/100\n",
      "19/19 [==============================] - 0s 6ms/step - loss: 14.8092 - mae: 2.7963 - val_loss: 20.5701 - val_mae: 2.7575\n",
      "Epoch 67/100\n",
      "19/19 [==============================] - 0s 6ms/step - loss: 14.5710 - mae: 2.7545 - val_loss: 20.3436 - val_mae: 2.7336\n",
      "Epoch 68/100\n",
      "19/19 [==============================] - 0s 6ms/step - loss: 14.8751 - mae: 2.8435 - val_loss: 20.0158 - val_mae: 2.7079\n",
      "Epoch 69/100\n",
      "19/19 [==============================] - 0s 6ms/step - loss: 14.6409 - mae: 2.7739 - val_loss: 20.1399 - val_mae: 2.7145\n",
      "Epoch 70/100\n",
      "19/19 [==============================] - 0s 7ms/step - loss: 14.3504 - mae: 2.7571 - val_loss: 20.3347 - val_mae: 2.7244\n",
      "Epoch 71/100\n",
      "19/19 [==============================] - 0s 7ms/step - loss: 14.3507 - mae: 2.7536 - val_loss: 20.1009 - val_mae: 2.6847\n",
      "Epoch 72/100\n",
      "19/19 [==============================] - 0s 6ms/step - loss: 14.5037 - mae: 2.8082 - val_loss: 20.2608 - val_mae: 2.7460\n",
      "Epoch 73/100\n",
      "19/19 [==============================] - 0s 6ms/step - loss: 14.2289 - mae: 2.7225 - val_loss: 19.8962 - val_mae: 2.6652\n",
      "Epoch 74/100\n",
      "19/19 [==============================] - 0s 6ms/step - loss: 14.3987 - mae: 2.7276 - val_loss: 20.2544 - val_mae: 2.7044\n",
      "Epoch 75/100\n",
      "19/19 [==============================] - 0s 7ms/step - loss: 14.5039 - mae: 2.7696 - val_loss: 20.0412 - val_mae: 2.7074\n",
      "Epoch 76/100\n",
      "19/19 [==============================] - 0s 7ms/step - loss: 13.9625 - mae: 2.7002 - val_loss: 20.3052 - val_mae: 2.7083\n",
      "Epoch 77/100\n",
      "19/19 [==============================] - 0s 6ms/step - loss: 14.2161 - mae: 2.7834 - val_loss: 20.4061 - val_mae: 2.7612\n",
      "Epoch 78/100\n",
      "19/19 [==============================] - 0s 6ms/step - loss: 14.5500 - mae: 2.7783 - val_loss: 20.3685 - val_mae: 2.7285\n",
      "Epoch 79/100\n",
      "19/19 [==============================] - 0s 6ms/step - loss: 14.2314 - mae: 2.7378 - val_loss: 20.4256 - val_mae: 2.7635\n",
      "Epoch 80/100\n",
      "19/19 [==============================] - 0s 6ms/step - loss: 14.0766 - mae: 2.7537 - val_loss: 20.1389 - val_mae: 2.7111\n",
      "Epoch 81/100\n",
      "19/19 [==============================] - 0s 6ms/step - loss: 13.9428 - mae: 2.7102 - val_loss: 20.2620 - val_mae: 2.7344\n",
      "Epoch 82/100\n",
      "19/19 [==============================] - 0s 6ms/step - loss: 14.0436 - mae: 2.7113 - val_loss: 19.8963 - val_mae: 2.6897\n",
      "Epoch 83/100\n",
      "19/19 [==============================] - 0s 6ms/step - loss: 13.8520 - mae: 2.7196 - val_loss: 20.3255 - val_mae: 2.7207\n",
      "Epoch 84/100\n",
      "19/19 [==============================] - 0s 6ms/step - loss: 14.1750 - mae: 2.7427 - val_loss: 19.6830 - val_mae: 2.6860\n",
      "Epoch 85/100\n",
      "19/19 [==============================] - 0s 7ms/step - loss: 14.1479 - mae: 2.7423 - val_loss: 20.7921 - val_mae: 2.7977\n",
      "Epoch 86/100\n",
      "19/19 [==============================] - 0s 6ms/step - loss: 13.8046 - mae: 2.7442 - val_loss: 19.8384 - val_mae: 2.6948\n",
      "Epoch 87/100\n",
      "19/19 [==============================] - 0s 6ms/step - loss: 13.9718 - mae: 2.7118 - val_loss: 20.7080 - val_mae: 2.7902\n",
      "Epoch 88/100\n",
      "19/19 [==============================] - 0s 6ms/step - loss: 14.1082 - mae: 2.7356 - val_loss: 19.9238 - val_mae: 2.6846\n",
      "Epoch 89/100\n",
      "19/19 [==============================] - 0s 6ms/step - loss: 13.9245 - mae: 2.7073 - val_loss: 20.1148 - val_mae: 2.7055\n",
      "Epoch 90/100\n",
      "19/19 [==============================] - 0s 6ms/step - loss: 13.9928 - mae: 2.7654 - val_loss: 19.8414 - val_mae: 2.6726\n",
      "Epoch 91/100\n",
      "19/19 [==============================] - 0s 6ms/step - loss: 13.8222 - mae: 2.7083 - val_loss: 20.2151 - val_mae: 2.7404\n",
      "Epoch 92/100\n",
      "19/19 [==============================] - 0s 7ms/step - loss: 13.8088 - mae: 2.7268 - val_loss: 20.4302 - val_mae: 2.7533\n",
      "Epoch 93/100\n",
      "19/19 [==============================] - 0s 7ms/step - loss: 13.8563 - mae: 2.7261 - val_loss: 19.9913 - val_mae: 2.7088\n",
      "Epoch 94/100\n",
      "19/19 [==============================] - 0s 6ms/step - loss: 13.8055 - mae: 2.6952 - val_loss: 19.9392 - val_mae: 2.7119\n",
      "Epoch 95/100\n",
      "19/19 [==============================] - 0s 6ms/step - loss: 13.6728 - mae: 2.7015 - val_loss: 20.5881 - val_mae: 2.7719\n",
      "Epoch 96/100\n",
      "19/19 [==============================] - 0s 6ms/step - loss: 13.5621 - mae: 2.6825 - val_loss: 19.6992 - val_mae: 2.6560\n",
      "Epoch 97/100\n",
      "19/19 [==============================] - 0s 6ms/step - loss: 14.4442 - mae: 2.7420 - val_loss: 20.1900 - val_mae: 2.7390\n",
      "Epoch 98/100\n",
      "19/19 [==============================] - 0s 6ms/step - loss: 14.4330 - mae: 2.8271 - val_loss: 19.9993 - val_mae: 2.7344\n",
      "Epoch 99/100\n",
      "19/19 [==============================] - 0s 6ms/step - loss: 13.6222 - mae: 2.6831 - val_loss: 20.4998 - val_mae: 2.7801\n",
      "Epoch 100/100\n",
      "19/19 [==============================] - 0s 7ms/step - loss: 13.6504 - mae: 2.7177 - val_loss: 20.3005 - val_mae: 2.7550\n"
     ]
    },
    {
     "data": {
      "text/plain": [
       "<keras.callbacks.History at 0x287470e80>"
      ]
     },
     "execution_count": 23,
     "metadata": {},
     "output_type": "execute_result"
    }
   ],
   "source": [
    "model.fit(x_train,y_train,epochs=100,batch_size=16,validation_split=0.2)"
   ]
  },
  {
   "cell_type": "code",
   "execution_count": 24,
   "id": "4768b343-77c0-41a2-ab23-c1f706f6e448",
   "metadata": {},
   "outputs": [
    {
     "name": "stdout",
     "output_type": "stream",
     "text": [
      "4/4 [==============================] - 0s 9ms/step - loss: 18.3842 - mae: 2.8704\n"
     ]
    }
   ],
   "source": [
    "output = model.evaluate(x_test,y_test)"
   ]
  },
  {
   "cell_type": "code",
   "execution_count": 25,
   "id": "5450e053-f534-45e4-8353-18e896d0623f",
   "metadata": {},
   "outputs": [
    {
     "name": "stdout",
     "output_type": "stream",
     "text": [
      "Mean Squared Error: 18.384166717529297\n",
      "Mean Absolute Error: 2.8704495429992676\n"
     ]
    }
   ],
   "source": [
    "print(f\"Mean Squared Error: {output[0]}\"\n",
    "      ,f\"Mean Absolute Error: {output[1]}\",sep=\"\\n\")"
   ]
  },
  {
   "cell_type": "code",
   "execution_count": 26,
   "id": "6de75210-a328-4ebd-b626-19e3099158ed",
   "metadata": {},
   "outputs": [
    {
     "name": "stdout",
     "output_type": "stream",
     "text": [
      "4/4 [==============================] - 0s 4ms/step\n"
     ]
    },
    {
     "name": "stderr",
     "output_type": "stream",
     "text": [
      "2023-05-23 22:27:09.751418: I tensorflow/core/grappler/optimizers/custom_graph_optimizer_registry.cc:114] Plugin optimizer for device_type GPU is enabled.\n"
     ]
    }
   ],
   "source": [
    "y_pred = model.predict(x=x_test)"
   ]
  },
  {
   "cell_type": "code",
   "execution_count": 27,
   "id": "99b0b9e0-5ac3-48ac-af92-be1489a1cb11",
   "metadata": {},
   "outputs": [
    {
     "data": {
      "image/png": "[encoded data removed]",
      "text/plain": [
       "<Figure size 432x288 with 1 Axes>"
      ]
     },
     "metadata": {
      "needs_background": "light"
     },
     "output_type": "display_data"
    }
   ],
   "source": [
    "import matplotlib.pyplot as plt\n",
    "\n",
    "# Assuming you have trained your model and obtained y_test and y_pred\n",
    "\n",
    "# Plot the actual values (y_test) and predicted values (y_pred)\n",
    "plt.plot(y_test, label='Actual')\n",
    "plt.plot(y_pred, label='Predicted')\n",
    "\n",
    "# Add labels and title\n",
    "plt.xlabel('Data Index')\n",
    "plt.ylabel('Value')\n",
    "plt.title('Actual vs. Predicted')\n",
    "\n",
    "# Add a legend\n",
    "plt.legend()\n",
    "\n",
    "# Display the plot\n",
    "plt.show()\n"
   ]
  },
  {
   "cell_type": "code",
   "execution_count": 28,
   "id": "b899fbf3-ad3b-4850-9a61-e070e56e5265",
   "metadata": {},
   "outputs": [
    {
     "data": {
      "text/plain": [
       "<AxesSubplot:ylabel='MEDV'>"
      ]
     },
     "execution_count": 28,
     "metadata": {},
     "output_type": "execute_result"
    },
    {
     "data": {
      "image/png": "[encoded data removed]",
      "text/plain": [
       "<Figure size 432x288 with 1 Axes>"
      ]
     },
     "metadata": {
      "needs_background": "light"
     },
     "output_type": "display_data"
    }
   ],
   "source": [
    "import seaborn as sns\n",
    "sns.regplot(x = y_pred, y= y_test)"
   ]
  },
  {
   "cell_type": "code",
   "execution_count": 29,
   "id": "db640e9f-309c-48ac-a541-4e18d9f55324",
   "metadata": {},
   "outputs": [
    {
     "data": {
      "text/plain": [
       "<matplotlib.collections.PathCollection at 0x2930a4220>"
      ]
     },
     "execution_count": 29,
     "metadata": {},
     "output_type": "execute_result"
    },
    {
     "data": {
      "image/png": "[encoded data removed]",
      "text/plain": [
       "<Figure size 432x288 with 1 Axes>"
      ]
     },
     "metadata": {
      "needs_background": "light"
     },
     "output_type": "display_data"
    }
   ],
   "source": [
    "plt.scatter(y_pred,y_test)"
   ]
  },
  {
   "cell_type": "code",
   "execution_count": null,
   "id": "d3407948-2c27-4640-8673-08d48f24520e",
   "metadata": {},
   "outputs": [],
   "source": []
  },
  {
   "cell_type": "code",
   "execution_count": null,
   "id": "55f0427a-467d-45b5-bd11-1d15dafece50",
   "metadata": {},
   "outputs": [],
   "source": []
  },
  {
   "cell_type": "code",
   "execution_count": null,
   "id": "c4a5beae-172a-443f-a5d3-92698bd6ad81",
   "metadata": {},
   "outputs": [],
   "source": []
  },
  {
   "cell_type": "code",
   "execution_count": null,
   "id": "868a3b8b-2664-4f67-90b8-4505ad189d0e",
   "metadata": {},
   "outputs": [],
   "source": []
  },
  {
   "cell_type": "code",
   "execution_count": null,
   "id": "54a359fc-0a29-411e-955c-e91f77f0781a",
   "metadata": {},
   "outputs": [],
   "source": []
  },
  {
   "cell_type": "code",
   "execution_count": null,
   "id": "839c0c75-0fdd-4b07-b634-5e852f612d06",
   "metadata": {},
   "outputs": [],
   "source": []
  },
  {
   "cell_type": "code",
   "execution_count": null,
   "id": "8a6cbacf-6983-43ae-93c8-b0b43e20329a",
   "metadata": {},
   "outputs": [],
   "source": []
  },
  {
   "cell_type": "code",
   "execution_count": null,
   "id": "13ccb3fb-6a29-4e22-9ae4-16291b59042d",
   "metadata": {},
   "outputs": [],
   "source": []
  },
  {
   "cell_type": "code",
   "execution_count": null,
   "id": "baf55607-fe77-4aea-a442-8bff882e5047",
   "metadata": {},
   "outputs": [],
   "source": []
  },
  {
   "cell_type": "code",
   "execution_count": null,
   "id": "2850a7d8-3eb8-4dcf-97ee-e885ae1bc165",
   "metadata": {},
   "outputs": [],
   "source": [
    "# In the context of the `compile()` method in Keras, the `metrics` and `loss` arguments are used to define the metrics and loss function to be used during the training and evaluation of a model.\n",
    "\n",
    "# 1. **Metrics**: The `metrics` argument is a list of metrics that are used to evaluate the performance of the model. These metrics are typically used to monitor and report the model's performance during training and validation.\n",
    "\n",
    "# Commonly used metrics include accuracy, precision, recall, F1-score, and mean squared error (MSE), among others. You can specify multiple metrics by passing them as a list. For example:\n",
    "\n",
    "# ```python\n",
    "# model.compile(optimizer='adam', loss='mse', metrics=['accuracy', 'precision'])\n",
    "# ```\n",
    "\n",
    "# In the above example, the model is compiled with the Adam optimizer and MSE (mean squared error) as the loss function. Additionally, both accuracy and precision are specified as metrics to be computed during training and evaluation.\n",
    "\n",
    "# 2. **Loss**: The `loss` argument specifies the loss function that is used to measure the discrepancy between the predicted values and the actual values during training. The choice of the loss function depends on the type of problem you are working on. For example, for regression tasks, you might use mean squared error (MSE) or mean absolute error (MAE), while for classification tasks, you might use categorical cross-entropy or binary cross-entropy.\n",
    "\n",
    "# Here's an example:\n",
    "\n",
    "# ```python\n",
    "# model.compile(optimizer='adam', loss='mean_squared_error', metrics=['accuracy'])\n",
    "# ```\n",
    "\n",
    "# In this case, the model is compiled with the Adam optimizer, and mean squared error (MSE) is used as the loss function. The accuracy metric is also specified to evaluate the model's performance.\n",
    "\n",
    "# By specifying the appropriate metrics and loss function, you can monitor the model's performance during training and evaluation, and optimize the model's parameters accordingly."
   ]
  }
 ],
 "metadata": {
  "kernelspec": {
   "display_name": "Python 3 (ipykernel)",
   "language": "python",
   "name": "python3"
  },
  "language_info": {
   "codemirror_mode": {
    "name": "ipython",
    "version": 3
   },
   "file_extension": ".py",
   "mimetype": "text/x-python",
   "name": "python",
   "nbconvert_exporter": "python",
   "pygments_lexer": "ipython3",
   "version": "3.9.7"
  }
 },
 "nbformat": 4,
 "nbformat_minor": 5
}
